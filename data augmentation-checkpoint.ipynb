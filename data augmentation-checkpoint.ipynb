{
 "cells": [
  {
   "cell_type": "code",
   "execution_count": 5,
   "id": "855267dc",
   "metadata": {},
   "outputs": [],
   "source": [
    "import numpy as np\n",
    "import tensorflow as tf\n",
    "from tensorflow import keras\n",
    "from tensorflow.keras import layers\n",
    "from tensorflow.keras.preprocessing.image import ImageDataGenerator"
   ]
  },
  {
   "cell_type": "code",
   "execution_count": 6,
   "id": "de2c6cf5",
   "metadata": {},
   "outputs": [],
   "source": [
    "model=keras.Sequential(\n",
    "[\n",
    "    layers.Conv2D(32,(3,3),activation=\"relu\",padding=\"same\",input_shape=(28,28,1)),\n",
    "    layers.MaxPooling2D(pool_size=(2,2)),\n",
    "    layers.Flatten(),\n",
    "    layers.Dense(10,activation=\"softmax\"),\n",
    "]\n",
    "    \n",
    ")"
   ]
  },
  {
   "cell_type": "code",
   "execution_count": 15,
   "id": "3febe94f",
   "metadata": {},
   "outputs": [],
   "source": [
    "model1=keras.Sequential(\n",
    "[\n",
    "    layers.Conv2D(32,(3,3),activation=\"relu\",padding=\"same\",input_shape=(28,28,1)),\n",
    "    layers.MaxPooling2D(pool_size=(2,2)),\n",
    "    layers.Flatten(),\n",
    "    layers.Dense(10,activation=\"softmax\"),\n",
    "]\n",
    "    \n",
    ")"
   ]
  },
  {
   "cell_type": "code",
   "execution_count": 16,
   "id": "609abee1",
   "metadata": {},
   "outputs": [],
   "source": [
    "(x_train,y_train),(x_test,y_test)=keras.datasets.mnist.load_data()\n",
    "\n",
    "x_train=x_train.astype(\"float32\")/255\n",
    "x_test=x_test.astype(\"float32\")/255\n",
    "\n",
    "x_train=np.expand_dims(x_train,-1)\n",
    "x_test=np.expand_dims(x_test,-1)\n",
    "\n",
    "x_train,x_val=x_train[:50000], x_train[50000:]\n",
    "y_train,y_val=y_train[:50000], y_train[50000:]\n"
   ]
  },
  {
   "cell_type": "code",
   "execution_count": 17,
   "id": "cba6094b",
   "metadata": {},
   "outputs": [],
   "source": [
    "datagen=ImageDataGenerator(\n",
    "    height_shift_range=0.1,\n",
    "    width_shift_range=0.1,\n",
    "    horizontal_flip=False,\n",
    "    vertical_flip=False,\n",
    "    shear_range=0.1,\n",
    "    rotation_range=10,\n",
    "    zoom_range=0.1,\n",
    ")"
   ]
  },
  {
   "cell_type": "code",
   "execution_count": 18,
   "id": "ec18f16f",
   "metadata": {},
   "outputs": [
    {
     "name": "stdout",
     "output_type": "stream",
     "text": [
      "Epoch 1/5\n",
      "1563/1563 [==============================] - 11s 7ms/step - loss: 0.0152 - accuracy: 0.9954 - val_loss: 0.0592 - val_accuracy: 0.9846\n",
      "Epoch 2/5\n",
      "1563/1563 [==============================] - 11s 7ms/step - loss: 0.0111 - accuracy: 0.9970 - val_loss: 0.0589 - val_accuracy: 0.9854\n",
      "Epoch 3/5\n",
      "1563/1563 [==============================] - 11s 7ms/step - loss: 0.0095 - accuracy: 0.9975 - val_loss: 0.0619 - val_accuracy: 0.9847\n",
      "Epoch 4/5\n",
      "1563/1563 [==============================] - 11s 7ms/step - loss: 0.0083 - accuracy: 0.9979 - val_loss: 0.0608 - val_accuracy: 0.9860\n",
      "Epoch 5/5\n",
      "1563/1563 [==============================] - 11s 7ms/step - loss: 0.0067 - accuracy: 0.9982 - val_loss: 0.0677 - val_accuracy: 0.9842\n",
      "Epoch 1/5\n",
      "1563/1563 [==============================] - 18s 12ms/step - loss: 0.5414 - accuracy: 0.8362 - val_loss: 0.1339 - val_accuracy: 0.9641\n",
      "Epoch 2/5\n",
      "1563/1563 [==============================] - 18s 11ms/step - loss: 0.2683 - accuracy: 0.9200 - val_loss: 0.1293 - val_accuracy: 0.9652\n",
      "Epoch 3/5\n",
      "1563/1563 [==============================] - 18s 11ms/step - loss: 0.2323 - accuracy: 0.9304 - val_loss: 0.0984 - val_accuracy: 0.9720\n",
      "Epoch 4/5\n",
      "1563/1563 [==============================] - 18s 11ms/step - loss: 0.2010 - accuracy: 0.9388 - val_loss: 0.0933 - val_accuracy: 0.9727\n",
      "Epoch 5/5\n",
      "1563/1563 [==============================] - 18s 11ms/step - loss: 0.1895 - accuracy: 0.9426 - val_loss: 0.1064 - val_accuracy: 0.9707\n"
     ]
    }
   ],
   "source": [
    "model.compile(loss=\"sparse_categorical_crossentropy\",optimizer=\"adam\",metrics=[\"accuracy\"])\n",
    "history1=model.fit(x_train,y_train,batch_size=32,epochs=5,validation_data=(x_val,y_val))\n",
    "\n",
    "model1.compile(loss=\"sparse_categorical_crossentropy\",optimizer=\"adam\",metrics=[\"accuracy\"])\n",
    "history2=model1.fit(datagen.flow(x_train,y_train,batch_size=32),epochs=5,validation_data=(x_val,y_val))\n"
   ]
  },
  {
   "cell_type": "code",
   "execution_count": 19,
   "id": "6c3bbe5f",
   "metadata": {},
   "outputs": [
    {
     "name": "stdout",
     "output_type": "stream",
     "text": [
      "313/313 [==============================] - 1s 3ms/step - loss: 0.0546 - accuracy: 0.9861\n",
      "313/313 [==============================] - 1s 3ms/step - loss: 0.0939 - accuracy: 0.9723\n"
     ]
    },
    {
     "data": {
      "text/plain": [
       "[0.0939173474907875, 0.9722999930381775]"
      ]
     },
     "execution_count": 19,
     "metadata": {},
     "output_type": "execute_result"
    }
   ],
   "source": [
    "model.evaluate(x_test,y_test)\n",
    "model1.evaluate(x_test,y_test)"
   ]
  },
  {
   "cell_type": "code",
   "execution_count": 21,
   "id": "c0289f15",
   "metadata": {},
   "outputs": [
    {
     "data": {
      "image/png": "[encoded data removed]",
      "text/plain": [
       "<Figure size 640x480 with 1 Axes>"
      ]
     },
     "metadata": {},
     "output_type": "display_data"
    }
   ],
   "source": [
    "import matplotlib.pyplot as plt\n",
    "plt.plot(history1.history['loss'],label=\"training loss\")\n",
    "plt.plot(history1.history['val_loss'],label=\"training loss\")\n",
    "plt.xlabel('epoch')\n",
    "plt.ylabel('loss')\n",
    "plt.legend()\n",
    "plt.show()"
   ]
  },
  {
   "cell_type": "code",
   "execution_count": null,
   "id": "6a1b3982",
   "metadata": {},
   "outputs": [],
   "source": []
  }
 ],
 "metadata": {
  "kernelspec": {
   "display_name": "Python 3 (ipykernel)",
   "language": "python",
   "name": "python3"
  },
  "language_info": {
   "codemirror_mode": {
    "name": "ipython",
    "version": 3
   },
   "file_extension": ".py",
   "mimetype": "text/x-python",
   "name": "python",
   "nbconvert_exporter": "python",
   "pygments_lexer": "ipython3",
   "version": "3.9.17"
  }
 },
 "nbformat": 4,
 "nbformat_minor": 5
}
