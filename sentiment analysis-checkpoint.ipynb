{
 "cells": [
  {
   "cell_type": "code",
   "execution_count": 1,
   "id": "fd5770f6",
   "metadata": {},
   "outputs": [],
   "source": [
    "import pandas as pd\n",
    "import numpy as np\n",
    "import tensorflow as tf\n",
    "from tensorflow import keras\n",
    "from sklearn.model_selection import train_test_split\n",
    "from sklearn.preprocessing import LabelEncoder\n",
    "from sklearn.feature_extraction.text import TfidfVectorizer"
   ]
  },
  {
   "cell_type": "code",
   "execution_count": 5,
   "id": "ae9df63c",
   "metadata": {},
   "outputs": [],
   "source": [
    "df=pd.read_csv('C:\\\\Users\\\\Student\\\\Desktop\\\\sentiment.csv')"
   ]
  },
  {
   "cell_type": "code",
   "execution_count": 6,
   "id": "3169691b",
   "metadata": {},
   "outputs": [
    {
     "data": {
      "text/plain": [
       "Index                        0\n",
       "message to examine           0\n",
       "label (depression result)    0\n",
       "dtype: int64"
      ]
     },
     "execution_count": 6,
     "metadata": {},
     "output_type": "execute_result"
    }
   ],
   "source": [
    "df.isnull().sum()\n"
   ]
  },
  {
   "cell_type": "code",
   "execution_count": 7,
   "id": "8ed9b3c7",
   "metadata": {},
   "outputs": [],
   "source": [
    "tfidf_vectorizer=TfidfVectorizer(max_features=5000)\n",
    "x=tfidf_vectorizer.fit_transform(df['message to examine'])\n",
    "y=df['label (depression result)']"
   ]
  },
  {
   "cell_type": "code",
   "execution_count": 8,
   "id": "edeb1ad7",
   "metadata": {},
   "outputs": [],
   "source": [
    "X=x.toarray()"
   ]
  },
  {
   "cell_type": "code",
   "execution_count": 20,
   "id": "c8aa527c",
   "metadata": {},
   "outputs": [],
   "source": [
    "X_train,X_test,y_train,y_test=train_test_split(X,y,test_size=0.2,random_state=42)"
   ]
  },
  {
   "cell_type": "code",
   "execution_count": 21,
   "id": "04da61d4",
   "metadata": {},
   "outputs": [],
   "source": [
    "model=keras.Sequential([\n",
    "    keras.layers.Dense(128,activation='relu',input_shape=(X_train.shape[1],)),\n",
    "    keras.layers.Dense(64,activation='relu'),\n",
    "    keras.layers.Dense(64,activation='relu'),\n",
    "    keras.layers.Dense(64,activation='relu'),\n",
    "    keras.layers.Dense(1,activation='sigmoid')\n",
    "])"
   ]
  },
  {
   "cell_type": "code",
   "execution_count": 22,
   "id": "80d4c009",
   "metadata": {},
   "outputs": [],
   "source": [
    "model.compile(optimizer='adam',loss='binary_crossentropy',metrics=['accuracy'])"
   ]
  },
  {
   "cell_type": "code",
   "execution_count": 25,
   "id": "784cc659",
   "metadata": {},
   "outputs": [
    {
     "name": "stdout",
     "output_type": "stream",
     "text": [
      "Epoch 1/5\n",
      "258/258 [==============================] - 3s 8ms/step - loss: 0.2162 - accuracy: 0.9089 - val_loss: 0.0659 - val_accuracy: 0.9816\n",
      "Epoch 2/5\n",
      "258/258 [==============================] - 2s 7ms/step - loss: 0.0149 - accuracy: 0.9961 - val_loss: 0.0752 - val_accuracy: 0.9830\n",
      "Epoch 3/5\n",
      "258/258 [==============================] - 2s 7ms/step - loss: 0.0031 - accuracy: 0.9996 - val_loss: 0.0679 - val_accuracy: 0.9850\n",
      "Epoch 4/5\n",
      "258/258 [==============================] - 2s 7ms/step - loss: 0.0021 - accuracy: 0.9998 - val_loss: 0.0605 - val_accuracy: 0.9830\n",
      "Epoch 5/5\n",
      "258/258 [==============================] - 2s 7ms/step - loss: 0.0020 - accuracy: 0.9998 - val_loss: 0.0787 - val_accuracy: 0.9840\n"
     ]
    }
   ],
   "source": [
    "history=model.fit(X_train,y_train,epochs=5,batch_size=32,validation_data=(X_test,y_test))"
   ]
  },
  {
   "cell_type": "code",
   "execution_count": 26,
   "id": "50ef6e69",
   "metadata": {},
   "outputs": [
    {
     "name": "stdout",
     "output_type": "stream",
     "text": [
      "65/65 [==============================] - 0s 2ms/step - loss: 0.0787 - accuracy: 0.9840\n",
      "test loss 0.07868283241987228\n",
      "test accuracy 0.9840039014816284\n"
     ]
    }
   ],
   "source": [
    "test_loss,test_acc=model.evaluate(X_test,y_test)\n",
    "print(\"test loss\",test_loss)\n",
    "print(\"test accuracy\",test_acc)"
   ]
  },
  {
   "cell_type": "code",
   "execution_count": 27,
   "id": "6306fad7",
   "metadata": {},
   "outputs": [],
   "source": [
    "model.save(\"senti.keras\")"
   ]
  },
  {
   "cell_type": "code",
   "execution_count": 29,
   "id": "6a756da8",
   "metadata": {},
   "outputs": [
    {
     "data": {
      "text/plain": [
       "<keras.src.engine.sequential.Sequential at 0x2b69a2903a0>"
      ]
     },
     "execution_count": 29,
     "metadata": {},
     "output_type": "execute_result"
    }
   ],
   "source": [
    "loaded_model=keras.models.load_model('senti.keras')\n",
    "loaded_model"
   ]
  },
  {
   "cell_type": "code",
   "execution_count": null,
   "id": "64a3404e",
   "metadata": {},
   "outputs": [],
   "source": []
  }
 ],
 "metadata": {
  "kernelspec": {
   "display_name": "Python 3 (ipykernel)",
   "language": "python",
   "name": "python3"
  },
  "language_info": {
   "codemirror_mode": {
    "name": "ipython",
    "version": 3
   },
   "file_extension": ".py",
   "mimetype": "text/x-python",
   "name": "python",
   "nbconvert_exporter": "python",
   "pygments_lexer": "ipython3",
   "version": "3.9.17"
  }
 },
 "nbformat": 4,
 "nbformat_minor": 5
}
