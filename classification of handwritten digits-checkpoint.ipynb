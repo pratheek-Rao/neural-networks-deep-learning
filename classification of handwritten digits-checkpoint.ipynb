{
 "cells": [
  {
   "cell_type": "code",
   "execution_count": 2,
   "id": "35b44392",
   "metadata": {},
   "outputs": [],
   "source": [
    "from sklearn import datasets\n",
    "from sklearn.model_selection import train_test_split\n",
    "from keras.utils import to_categorical\n",
    "from keras.models import Sequential\n",
    "from keras.layers import Conv2D,MaxPooling2D,Flatten,Dense\n",
    "from keras.callbacks import EarlyStopping,ModelCheckpoint\n",
    "import matplotlib.pyplot as plt"
   ]
  },
  {
   "cell_type": "code",
   "execution_count": 5,
   "id": "af5b83da",
   "metadata": {},
   "outputs": [],
   "source": [
    "data=datasets.load_digits()\n",
    "x=data.images\n",
    "y=data.target"
   ]
  },
  {
   "cell_type": "code",
   "execution_count": 6,
   "id": "38f8093e",
   "metadata": {},
   "outputs": [],
   "source": [
    "x=x.reshape((x.shape[0],8,8,1))\n",
    "x=x.astype('float32')/255\n",
    "y=to_categorical(y)\n"
   ]
  },
  {
   "cell_type": "code",
   "execution_count": 8,
   "id": "014c0768",
   "metadata": {},
   "outputs": [],
   "source": [
    "x_train,x_test,y_train,y_test=train_test_split(x,y,test_size=0.2)\n"
   ]
  },
  {
   "cell_type": "code",
   "execution_count": 14,
   "id": "9c5d7753",
   "metadata": {},
   "outputs": [],
   "source": [
    "model=Sequential()\n",
    "model.add(Conv2D(32,kernel_size=(3,3),activation='relu',input_shape=(8,8,1)))\n",
    "model.add(MaxPooling2D(pool_size=(2,2))) \n",
    "model.add(Flatten())\n",
    "model.add(Dense(64,activation='relu'))\n",
    "model.add(Dense(10,activation='softmax'))\n"
   ]
  },
  {
   "cell_type": "code",
   "execution_count": 16,
   "id": "dbac81db",
   "metadata": {},
   "outputs": [],
   "source": [
    "model.compile(optimizer='adam',loss='categorical_crossentropy',metrics=['accuracy'])"
   ]
  },
  {
   "cell_type": "code",
   "execution_count": 18,
   "id": "91d2dd32",
   "metadata": {},
   "outputs": [],
   "source": [
    "earlystop=EarlyStopping(monitor='val_loss',patience=10)\n",
    "best_weights=ModelCheckpoint('best_weights.h5',save_best_only=True,monitor='val_loss',mode='min')\n"
   ]
  },
  {
   "cell_type": "code",
   "execution_count": 23,
   "id": "5f302df0",
   "metadata": {},
   "outputs": [
    {
     "name": "stdout",
     "output_type": "stream",
     "text": [
      "Epoch 1/50\n",
      "45/45 [==============================] - 1s 8ms/step - loss: 2.2914 - accuracy: 0.2387 - val_loss: 2.2775 - val_accuracy: 0.3194\n",
      "Epoch 2/50\n",
      "39/45 [=========================>....] - ETA: 0s - loss: 2.2436 - accuracy: 0.2812"
     ]
    },
    {
     "name": "stderr",
     "output_type": "stream",
     "text": [
      "C:\\Users\\Student\\AppData\\Roaming\\Python\\Python39\\site-packages\\keras\\src\\engine\\training.py:3000: UserWarning: You are saving your model as an HDF5 file via `model.save()`. This file format is considered legacy. We recommend using instead the native Keras format, e.g. `model.save('my_model.keras')`.\n",
      "  saving_api.save_model(\n"
     ]
    },
    {
     "name": "stdout",
     "output_type": "stream",
     "text": [
      "45/45 [==============================] - 0s 4ms/step - loss: 2.2367 - accuracy: 0.3180 - val_loss: 2.1892 - val_accuracy: 0.5833\n",
      "Epoch 3/50\n",
      "45/45 [==============================] - 0s 4ms/step - loss: 2.0867 - accuracy: 0.6360 - val_loss: 1.9939 - val_accuracy: 0.5639\n",
      "Epoch 4/50\n",
      "45/45 [==============================] - 0s 5ms/step - loss: 1.7824 - accuracy: 0.7119 - val_loss: 1.6026 - val_accuracy: 0.7167\n",
      "Epoch 5/50\n",
      "45/45 [==============================] - 0s 4ms/step - loss: 1.3793 - accuracy: 0.7857 - val_loss: 1.2047 - val_accuracy: 0.8028\n",
      "Epoch 6/50\n",
      "45/45 [==============================] - 0s 4ms/step - loss: 1.0236 - accuracy: 0.8427 - val_loss: 0.9109 - val_accuracy: 0.8361\n",
      "Epoch 7/50\n",
      "45/45 [==============================] - 0s 5ms/step - loss: 0.7818 - accuracy: 0.8566 - val_loss: 0.7450 - val_accuracy: 0.8306\n",
      "Epoch 8/50\n",
      "45/45 [==============================] - 0s 4ms/step - loss: 0.6307 - accuracy: 0.8706 - val_loss: 0.6025 - val_accuracy: 0.8611\n",
      "Epoch 9/50\n",
      "45/45 [==============================] - 0s 4ms/step - loss: 0.5288 - accuracy: 0.8894 - val_loss: 0.5315 - val_accuracy: 0.8722\n",
      "Epoch 10/50\n",
      "45/45 [==============================] - 0s 3ms/step - loss: 0.4636 - accuracy: 0.8970 - val_loss: 0.4733 - val_accuracy: 0.8806\n",
      "Epoch 11/50\n",
      "45/45 [==============================] - 0s 3ms/step - loss: 0.4146 - accuracy: 0.9074 - val_loss: 0.4330 - val_accuracy: 0.8944\n",
      "Epoch 12/50\n",
      "45/45 [==============================] - 0s 4ms/step - loss: 0.3710 - accuracy: 0.9144 - val_loss: 0.3992 - val_accuracy: 0.8889\n",
      "Epoch 13/50\n",
      "45/45 [==============================] - 0s 4ms/step - loss: 0.3418 - accuracy: 0.9137 - val_loss: 0.3679 - val_accuracy: 0.9028\n",
      "Epoch 14/50\n",
      "45/45 [==============================] - 0s 4ms/step - loss: 0.3161 - accuracy: 0.9200 - val_loss: 0.3490 - val_accuracy: 0.9111\n",
      "Epoch 15/50\n",
      "45/45 [==============================] - 0s 4ms/step - loss: 0.2957 - accuracy: 0.9207 - val_loss: 0.3261 - val_accuracy: 0.9167\n",
      "Epoch 16/50\n",
      "45/45 [==============================] - 0s 4ms/step - loss: 0.2766 - accuracy: 0.9283 - val_loss: 0.3166 - val_accuracy: 0.9250\n",
      "Epoch 17/50\n",
      "45/45 [==============================] - 0s 4ms/step - loss: 0.2606 - accuracy: 0.9346 - val_loss: 0.2942 - val_accuracy: 0.9222\n",
      "Epoch 18/50\n",
      "45/45 [==============================] - 0s 3ms/step - loss: 0.2441 - accuracy: 0.9395 - val_loss: 0.2962 - val_accuracy: 0.9167\n",
      "Epoch 19/50\n",
      "45/45 [==============================] - 0s 3ms/step - loss: 0.2349 - accuracy: 0.9395 - val_loss: 0.2684 - val_accuracy: 0.9306\n",
      "Epoch 20/50\n",
      "45/45 [==============================] - 0s 3ms/step - loss: 0.2204 - accuracy: 0.9443 - val_loss: 0.2655 - val_accuracy: 0.9250\n",
      "Epoch 21/50\n",
      "45/45 [==============================] - 0s 4ms/step - loss: 0.2083 - accuracy: 0.9492 - val_loss: 0.2506 - val_accuracy: 0.9361\n",
      "Epoch 22/50\n",
      "45/45 [==============================] - 0s 4ms/step - loss: 0.1956 - accuracy: 0.9478 - val_loss: 0.2673 - val_accuracy: 0.9222\n",
      "Epoch 23/50\n",
      "45/45 [==============================] - 0s 4ms/step - loss: 0.1961 - accuracy: 0.9485 - val_loss: 0.2242 - val_accuracy: 0.9361\n",
      "Epoch 24/50\n",
      "45/45 [==============================] - 0s 3ms/step - loss: 0.1797 - accuracy: 0.9548 - val_loss: 0.2289 - val_accuracy: 0.9361\n",
      "Epoch 25/50\n",
      "45/45 [==============================] - 0s 3ms/step - loss: 0.1702 - accuracy: 0.9589 - val_loss: 0.2136 - val_accuracy: 0.9333\n",
      "Epoch 26/50\n",
      "45/45 [==============================] - 0s 4ms/step - loss: 0.1668 - accuracy: 0.9596 - val_loss: 0.2131 - val_accuracy: 0.9361\n",
      "Epoch 27/50\n",
      "45/45 [==============================] - 0s 3ms/step - loss: 0.1554 - accuracy: 0.9610 - val_loss: 0.2020 - val_accuracy: 0.9361\n",
      "Epoch 28/50\n",
      "45/45 [==============================] - 0s 4ms/step - loss: 0.1522 - accuracy: 0.9631 - val_loss: 0.2028 - val_accuracy: 0.9417\n",
      "Epoch 29/50\n",
      "45/45 [==============================] - 0s 4ms/step - loss: 0.1458 - accuracy: 0.9638 - val_loss: 0.1910 - val_accuracy: 0.9417\n",
      "Epoch 30/50\n",
      "45/45 [==============================] - 0s 4ms/step - loss: 0.1389 - accuracy: 0.9666 - val_loss: 0.1857 - val_accuracy: 0.9500\n",
      "Epoch 31/50\n",
      "45/45 [==============================] - 0s 4ms/step - loss: 0.1335 - accuracy: 0.9708 - val_loss: 0.1787 - val_accuracy: 0.9500\n",
      "Epoch 32/50\n",
      "45/45 [==============================] - 0s 4ms/step - loss: 0.1292 - accuracy: 0.9687 - val_loss: 0.1767 - val_accuracy: 0.9472\n",
      "Epoch 33/50\n",
      "45/45 [==============================] - 0s 3ms/step - loss: 0.1239 - accuracy: 0.9729 - val_loss: 0.1807 - val_accuracy: 0.9472\n",
      "Epoch 34/50\n",
      "45/45 [==============================] - 0s 3ms/step - loss: 0.1183 - accuracy: 0.9715 - val_loss: 0.1750 - val_accuracy: 0.9444\n",
      "Epoch 35/50\n",
      "45/45 [==============================] - 0s 4ms/step - loss: 0.1148 - accuracy: 0.9743 - val_loss: 0.1745 - val_accuracy: 0.9472\n",
      "Epoch 36/50\n",
      "45/45 [==============================] - 0s 3ms/step - loss: 0.1120 - accuracy: 0.9729 - val_loss: 0.1632 - val_accuracy: 0.9528\n",
      "Epoch 37/50\n",
      "45/45 [==============================] - 0s 4ms/step - loss: 0.1089 - accuracy: 0.9791 - val_loss: 0.1562 - val_accuracy: 0.9583\n",
      "Epoch 38/50\n",
      "45/45 [==============================] - 0s 4ms/step - loss: 0.1044 - accuracy: 0.9777 - val_loss: 0.1536 - val_accuracy: 0.9556\n",
      "Epoch 39/50\n",
      "45/45 [==============================] - 0s 3ms/step - loss: 0.1027 - accuracy: 0.9756 - val_loss: 0.1475 - val_accuracy: 0.9639\n",
      "Epoch 40/50\n",
      "45/45 [==============================] - 0s 3ms/step - loss: 0.0969 - accuracy: 0.9805 - val_loss: 0.1511 - val_accuracy: 0.9556\n",
      "Epoch 41/50\n",
      "45/45 [==============================] - 0s 3ms/step - loss: 0.0952 - accuracy: 0.9798 - val_loss: 0.1570 - val_accuracy: 0.9472\n",
      "Epoch 42/50\n",
      "45/45 [==============================] - 0s 3ms/step - loss: 0.0913 - accuracy: 0.9791 - val_loss: 0.1483 - val_accuracy: 0.9556\n",
      "Epoch 43/50\n",
      "45/45 [==============================] - 0s 3ms/step - loss: 0.0927 - accuracy: 0.9770 - val_loss: 0.1410 - val_accuracy: 0.9611\n",
      "Epoch 44/50\n",
      "45/45 [==============================] - 0s 4ms/step - loss: 0.0846 - accuracy: 0.9812 - val_loss: 0.1397 - val_accuracy: 0.9639\n",
      "Epoch 45/50\n",
      "45/45 [==============================] - 0s 4ms/step - loss: 0.0814 - accuracy: 0.9812 - val_loss: 0.1385 - val_accuracy: 0.9611\n",
      "Epoch 46/50\n",
      "45/45 [==============================] - 0s 3ms/step - loss: 0.0810 - accuracy: 0.9798 - val_loss: 0.1343 - val_accuracy: 0.9639\n",
      "Epoch 47/50\n",
      "45/45 [==============================] - 0s 3ms/step - loss: 0.0767 - accuracy: 0.9840 - val_loss: 0.1384 - val_accuracy: 0.9639\n",
      "Epoch 48/50\n",
      "45/45 [==============================] - 0s 3ms/step - loss: 0.0751 - accuracy: 0.9833 - val_loss: 0.1355 - val_accuracy: 0.9639\n",
      "Epoch 49/50\n",
      "45/45 [==============================] - 0s 3ms/step - loss: 0.0748 - accuracy: 0.9868 - val_loss: 0.1340 - val_accuracy: 0.9583\n",
      "Epoch 50/50\n",
      "45/45 [==============================] - 0s 3ms/step - loss: 0.0710 - accuracy: 0.9826 - val_loss: 0.1470 - val_accuracy: 0.9500\n"
     ]
    }
   ],
   "source": [
    "history=model.fit(x_train,y_train,epochs=50,batch_size=32,validation_data=(x_test,y_test),\n",
    "                 callbacks=[earlystop,best_weights])"
   ]
  },
  {
   "cell_type": "code",
   "execution_count": 24,
   "id": "ec52163d",
   "metadata": {},
   "outputs": [
    {
     "data": {
      "image/png": "[encoded data removed]",
      "text/plain": [
       "<Figure size 640x480 with 1 Axes>"
      ]
     },
     "metadata": {},
     "output_type": "display_data"
    },
    {
     "data": {
      "image/png": "[encoded data removed]",
      "text/plain": [
       "<Figure size 640x480 with 1 Axes>"
      ]
     },
     "metadata": {},
     "output_type": "display_data"
    }
   ],
   "source": [
    "plt.plot(history.history['val_loss'])\n",
    "plt.title('validation loss')\n",
    "plt.ylabel('loss')\n",
    "plt.xlabel('epoch')\n",
    "plt.show()\n",
    "\n",
    "plt.plot(history.history['val_accuracy'])\n",
    "plt.title('validation accuracy')\n",
    "plt.ylabel('accuracy')\n",
    "plt.xlabel('epoch')\n",
    "plt.show()\n"
   ]
  },
  {
   "cell_type": "code",
   "execution_count": 25,
   "id": "b9dcebf4",
   "metadata": {},
   "outputs": [],
   "source": [
    "model.load_weights(\"best_weights.h5\")\n"
   ]
  },
  {
   "cell_type": "code",
   "execution_count": 26,
   "id": "06b277db",
   "metadata": {},
   "outputs": [
    {
     "name": "stdout",
     "output_type": "stream",
     "text": [
      "test loss: 0.13398994505405426\n",
      "test accuracy: 0.9583333134651184\n"
     ]
    }
   ],
   "source": [
    "test_loss,test_acc=model.evaluate(x_test,y_test,verbose=0)\n",
    "print('test loss:',test_loss)\n",
    "print(\"test accuracy:\",test_acc)"
   ]
  },
  {
   "cell_type": "code",
   "execution_count": null,
   "id": "444c1bff",
   "metadata": {},
   "outputs": [],
   "source": []
  }
 ],
 "metadata": {
  "kernelspec": {
   "display_name": "Python 3 (ipykernel)",
   "language": "python",
   "name": "python3"
  },
  "language_info": {
   "codemirror_mode": {
    "name": "ipython",
    "version": 3
   },
   "file_extension": ".py",
   "mimetype": "text/x-python",
   "name": "python",
   "nbconvert_exporter": "python",
   "pygments_lexer": "ipython3",
   "version": "3.9.17"
  }
 },
 "nbformat": 4,
 "nbformat_minor": 5
}
